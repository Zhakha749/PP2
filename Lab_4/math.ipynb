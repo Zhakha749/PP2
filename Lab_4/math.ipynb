{
 "cells": [
  {
   "cell_type": "code",
   "execution_count": 3,
   "metadata": {},
   "outputs": [
    {
     "name": "stdout",
     "output_type": "stream",
     "text": [
      "Radians: 0.261799\n"
     ]
    }
   ],
   "source": [
    "import math\n",
    "value = int(input(\"Enter  degree: \"))\n",
    "\n",
    "converted_value = (value * math.pi)/180\n",
    "\n",
    "print(f\"Radians: {converted_value:.6f}\")"
   ]
  },
  {
   "cell_type": "code",
   "execution_count": 8,
   "metadata": {},
   "outputs": [
    {
     "name": "stdout",
     "output_type": "stream",
     "text": [
      "Expected output: 27.5\n"
     ]
    }
   ],
   "source": [
    "def area_of_trapezoid(height, first, second):\n",
    "    return ((first + second) * height)/ 2\n",
    "\n",
    "height = int(input(\"Enter the height of trapezoid: \"))\n",
    "first = int(input(\"Enter the first value: \"))\n",
    "second = int(input(\"Enter the second value: \"))\n",
    "\n",
    "print(f\"Expected output: {area_of_trapezoid(height, first, second)}\")"
   ]
  },
  {
   "cell_type": "code",
   "execution_count": 10,
   "metadata": {},
   "outputs": [
    {
     "name": "stdout",
     "output_type": "stream",
     "text": [
      "The area of the polygon is: 625.0\n"
     ]
    }
   ],
   "source": [
    "import math\n",
    "\n",
    "n = int(input(\"Input number of sides: \"))\n",
    "s = float(input(\"Input the length of a side: \"))\n",
    "\n",
    "if n == 4:  \n",
    "    area = s ** 2\n",
    "else:\n",
    "    area = (n * s ** 2) / (4 * math.tan(math.pi / n))\n",
    "\n",
    "print(f\"The area of the polygon is: {area}\")"
   ]
  },
  {
   "cell_type": "code",
   "execution_count": 11,
   "metadata": {},
   "outputs": [
    {
     "name": "stdout",
     "output_type": "stream",
     "text": [
      "Area of the parrallelogram: 30.0\n"
     ]
    }
   ],
   "source": [
    "base = float(input (\"Enter base: \"))\n",
    "length = float(input (\"Enter length of side: \"))\n",
    "area = base * length\n",
    "print (f\"Area of the parrallelogram: {area}\")"
   ]
  }
 ],
 "metadata": {
  "kernelspec": {
   "display_name": "Python 3",
   "language": "python",
   "name": "python3"
  },
  "language_info": {
   "codemirror_mode": {
    "name": "ipython",
    "version": 3
   },
   "file_extension": ".py",
   "mimetype": "text/x-python",
   "name": "python",
   "nbconvert_exporter": "python",
   "pygments_lexer": "ipython3",
   "version": "3.13.1"
  }
 },
 "nbformat": 4,
 "nbformat_minor": 2
}

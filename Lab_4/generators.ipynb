{
 "cells": [
  {
   "cell_type": "code",
   "execution_count": 1,
   "metadata": {},
   "outputs": [
    {
     "name": "stdout",
     "output_type": "stream",
     "text": [
      "0\n",
      "1\n",
      "4\n",
      "9\n",
      "16\n",
      "25\n"
     ]
    }
   ],
   "source": [
    "def square_generator(N):\n",
    "    for num in range (N+1):\n",
    "        yield num **2\n",
    "\n",
    "n = int(input (\"Enter a number N: \"))\n",
    "\n",
    "for num in square_generator(n):\n",
    "    print(num)"
   ]
  },
  {
   "cell_type": "code",
   "execution_count": 3,
   "metadata": {},
   "outputs": [
    {
     "name": "stdout",
     "output_type": "stream",
     "text": [
      "0,2,4,6,8,10\n"
     ]
    }
   ],
   "source": [
    "def even_numbers(n):\n",
    "    for  num in range(n+1):\n",
    "        if(num%2==0):\n",
    "            yield num\n",
    "\n",
    "n = int (input(\"Enter a number n: \"))\n",
    "\n",
    "print(\",\".join(str(num) for num in even_numbers(n)))"
   ]
  },
  {
   "cell_type": "code",
   "execution_count": 6,
   "metadata": {},
   "outputs": [
    {
     "name": "stdout",
     "output_type": "stream",
     "text": [
      "0\n",
      "12\n",
      "24\n",
      "36\n",
      "48\n",
      "60\n",
      "72\n",
      "84\n",
      "96\n"
     ]
    }
   ],
   "source": [
    "def gen(n):\n",
    "    for num in range (n+1):\n",
    "        if num%3 == 0 and num%4 == 0:\n",
    "            yield num\n",
    "\n",
    "n = int(input (\"Enter a number N: \"))\n",
    "\n",
    "for num in gen(n):\n",
    "    print(num)"
   ]
  },
  {
   "cell_type": "code",
   "execution_count": 8,
   "metadata": {},
   "outputs": [
    {
     "name": "stdout",
     "output_type": "stream",
     "text": [
      "25\n",
      "36\n",
      "49\n",
      "64\n",
      "81\n",
      "100\n"
     ]
    }
   ],
   "source": [
    "def square_generator(a,b):\n",
    "    for num in range (a,b+1):\n",
    "        yield num **2\n",
    "\n",
    "a = int(input (\"Enter a number a: \"))\n",
    "b = int(input (\"Enter a number b: \"))\n",
    "\n",
    "for num in square_generator(a,b):\n",
    "    print(num)"
   ]
  },
  {
   "cell_type": "code",
   "execution_count": 9,
   "metadata": {},
   "outputs": [
    {
     "name": "stdout",
     "output_type": "stream",
     "text": [
      "10\n",
      "9\n",
      "8\n",
      "7\n",
      "6\n",
      "5\n",
      "4\n",
      "3\n",
      "2\n",
      "1\n",
      "0\n"
     ]
    }
   ],
   "source": [
    "def gen(n):\n",
    "    for num in range(n,-1,-1):\n",
    "        yield num\n",
    "\n",
    "num = int (input (\"Enter a num: \"))\n",
    "\n",
    "for n in gen(num):\n",
    "    print(n)"
   ]
  }
 ],
 "metadata": {
  "kernelspec": {
   "display_name": "Python 3",
   "language": "python",
   "name": "python3"
  },
  "language_info": {
   "codemirror_mode": {
    "name": "ipython",
    "version": 3
   },
   "file_extension": ".py",
   "mimetype": "text/x-python",
   "name": "python",
   "nbconvert_exporter": "python",
   "pygments_lexer": "ipython3",
   "version": "3.13.1"
  }
 },
 "nbformat": 4,
 "nbformat_minor": 2
}

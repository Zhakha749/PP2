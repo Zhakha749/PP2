{
 "cells": [
  {
   "cell_type": "code",
   "execution_count": 1,
   "metadata": {},
   "outputs": [
    {
     "name": "stdout",
     "output_type": "stream",
     "text": [
      "2025-02-16\n",
      "2025-02-11\n"
     ]
    }
   ],
   "source": [
    "from datetime import date , timedelta\n",
    "\n",
    "current_date = date.today()\n",
    "five_days_ago = current_date - timedelta(days=5)\n",
    "print(current_date)\n",
    "print (five_days_ago)"
   ]
  },
  {
   "cell_type": "code",
   "execution_count": 3,
   "metadata": {},
   "outputs": [
    {
     "name": "stdout",
     "output_type": "stream",
     "text": [
      "2025-02-15\n",
      "2025-02-16\n",
      "2025-02-17\n"
     ]
    }
   ],
   "source": [
    "from datetime import date,timedelta\n",
    "todays_day = date.today()\n",
    "yesterdays_day = date.today()\n",
    "tomorrows_day = date.today()\n",
    "\n",
    "print(yesterdays_day - timedelta(days=1))\n",
    "print(todays_day)\n",
    "print(tomorrows_day + timedelta(days=1))"
   ]
  },
  {
   "cell_type": "code",
   "execution_count": null,
   "metadata": {},
   "outputs": [
    {
     "name": "stdout",
     "output_type": "stream",
     "text": [
      "2025-02-16 22:31:51\n"
     ]
    }
   ],
   "source": [
    "from datetime import datetime\n",
    "\n",
    "current_datetime = datetime.now()\n",
    "clean_datetime = current_datetime.replace(microsecond=0)\n",
    "\n",
    "print(clean_datetime)"
   ]
  },
  {
   "cell_type": "code",
   "execution_count": 10,
   "metadata": {},
   "outputs": [
    {
     "name": "stdout",
     "output_type": "stream",
     "text": [
      "Difference between the two dates in seconds: 1292517\n"
     ]
    }
   ],
   "source": [
    "from datetime import datetime\n",
    "\n",
    "date1_str = input(\"Enter the first date : \")\n",
    "date2_str = input(\"Enter the second date : \")\n",
    "\n",
    "\n",
    "date1 = datetime.strptime(date1_str, \"%Y-%m-%d %H:%M:%S\")\n",
    "date2 = datetime.strptime(date2_str, \"%Y-%m-%d %H:%M:%S\")\n",
    "\n",
    "\n",
    "time_difference = abs((date2 - date1).total_seconds()) \n",
    "\n",
    "\n",
    "print(f\"Difference between the two dates in seconds: {time_difference:.0f}\")"
   ]
  }
 ],
 "metadata": {
  "kernelspec": {
   "display_name": "Python 3",
   "language": "python",
   "name": "python3"
  },
  "language_info": {
   "codemirror_mode": {
    "name": "ipython",
    "version": 3
   },
   "file_extension": ".py",
   "mimetype": "text/x-python",
   "name": "python",
   "nbconvert_exporter": "python",
   "pygments_lexer": "ipython3",
   "version": "3.13.1"
  }
 },
 "nbformat": 4,
 "nbformat_minor": 2
}

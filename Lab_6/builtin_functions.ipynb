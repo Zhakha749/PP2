{
 "cells": [
  {
   "cell_type": "code",
   "execution_count": null,
   "metadata": {},
   "outputs": [
    {
     "name": "stdout",
     "output_type": "stream",
     "text": [
      "Product of all numbers: 120\n"
     ]
    }
   ],
   "source": [
    "# Task 1\n",
    "\n",
    "from functools import reduce\n",
    "\n",
    "def multiply_list(numbers):\n",
    "    return reduce(lambda x, y: x * y, numbers)\n",
    "\n",
    "nums = [2, 3, 4, 5]\n",
    "result = multiply_list(nums)\n",
    "print(\"Product of all numbers:\", result)\n"
   ]
  },
  {
   "cell_type": "code",
   "execution_count": null,
   "metadata": {},
   "outputs": [
    {
     "name": "stdout",
     "output_type": "stream",
     "text": [
      "Uppercase letters: 2\n",
      "Lowercase letters: 8\n"
     ]
    }
   ],
   "source": [
    "# Task 2\n",
    "\n",
    "def count_case(s):\n",
    "    upper_count = sum(map(str.isupper, s))\n",
    "    lower_count = sum(map(str.islower, s))\n",
    "    return upper_count, lower_count\n",
    "\n",
    "text = \"Hello World!\"\n",
    "upper, lower = count_case(text)\n",
    "print(\"Uppercase letters:\", upper)\n",
    "print(\"Lowercase letters:\", lower)\n"
   ]
  },
  {
   "cell_type": "code",
   "execution_count": null,
   "metadata": {},
   "outputs": [
    {
     "name": "stdout",
     "output_type": "stream",
     "text": [
      "Is palindrome: True\n"
     ]
    }
   ],
   "source": [
    "# Task 3\n",
    "\n",
    "def is_palindrome(s):\n",
    "    cleaned = ''.join(filter(str.isalnum, s)).lower()\n",
    "    return cleaned == cleaned[::-1]\n",
    "\n",
    "text = \"A man, a plan, a canal, Panama!\"\n",
    "print(\"Is palindrome:\", is_palindrome(text))\n"
   ]
  },
  {
   "cell_type": "code",
   "execution_count": null,
   "metadata": {},
   "outputs": [
    {
     "name": "stdout",
     "output_type": "stream",
     "text": [
      "Square root of 25100 after 2123 milliseconds is 158.42979517754858\n"
     ]
    }
   ],
   "source": [
    "# Task 4\n",
    "\n",
    "import time\n",
    "import math\n",
    "\n",
    "def delayed_sqrt(number, milliseconds):\n",
    "    time.sleep(milliseconds / 1000)  # Convert milliseconds to seconds\n",
    "    return math.sqrt(number)\n",
    "\n",
    "num = int(input(\"Enter a number: \"))\n",
    "delay = int(input(\"Enter delay in milliseconds: \"))\n",
    "result = delayed_sqrt(num, delay)\n",
    "print(f\"Square root of {num} after {delay} milliseconds is {result}\")\n",
    "\n"
   ]
  },
  {
   "cell_type": "code",
   "execution_count": null,
   "metadata": {},
   "outputs": [
    {
     "name": "stdout",
     "output_type": "stream",
     "text": [
      "False\n",
      "True\n"
     ]
    }
   ],
   "source": [
    "# Task 5\n",
    "\n",
    "def all_true(t):\n",
    "    return all(t)\n",
    "\n",
    "tuple1 = (True, True, False)\n",
    "tuple2 = (1, 2, 3)\n",
    "print(all_true(tuple1))  # Output: False\n",
    "print(all_true(tuple2))  # Output: True\n"
   ]
  }
 ],
 "metadata": {
  "kernelspec": {
   "display_name": "Python 3",
   "language": "python",
   "name": "python3"
  },
  "language_info": {
   "codemirror_mode": {
    "name": "ipython",
    "version": 3
   },
   "file_extension": ".py",
   "mimetype": "text/x-python",
   "name": "python",
   "nbconvert_exporter": "python",
   "pygments_lexer": "ipython3",
   "version": "3.13.1"
  }
 },
 "nbformat": 4,
 "nbformat_minor": 2
}

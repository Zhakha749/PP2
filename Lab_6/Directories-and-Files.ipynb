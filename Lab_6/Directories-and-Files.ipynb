{
 "cells": [
  {
   "cell_type": "code",
   "execution_count": null,
   "metadata": {},
   "outputs": [
    {
     "name": "stdout",
     "output_type": "stream",
     "text": [
      "Directories: []\n",
      "Files: ['boleans.ipynb', 'class.ipynb', 'dictionaries.ipynb', 'for_loop.ipynb', 'if_else.ipynb', 'input.txt', 'lists.ipynb', 'operators.ipynb', 'pr.ipynb', 'practis.ipynb', 'sets.ipynb', 'tuples.ipynb', 'while_loop.ipynb']\n",
      "All contents: ['boleans.ipynb', 'class.ipynb', 'dictionaries.ipynb', 'for_loop.ipynb', 'if_else.ipynb', 'input.txt', 'lists.ipynb', 'operators.ipynb', 'pr.ipynb', 'practis.ipynb', 'sets.ipynb', 'tuples.ipynb', 'while_loop.ipynb']\n"
     ]
    }
   ],
   "source": [
    "# Task 1\n",
    "\n",
    "import os\n",
    "\n",
    "def list_directories(path):\n",
    "    return [d for d in os.listdir(path) if os.path.isdir(os.path.join(path, d))]\n",
    "\n",
    "def list_files(path):\n",
    "    return [f for f in os.listdir(path) if os.path.isfile(os.path.join(path, f))]\n",
    "\n",
    "def list_all(path):\n",
    "    return os.listdir(path)\n",
    "\n",
    "path = input(\"Enter the directory path: \")\n",
    "print(\"Directories:\", list_directories(path))\n",
    "print(\"Files:\", list_files(path))\n",
    "print(\"All contents:\", list_all(path))\n"
   ]
  },
  {
   "cell_type": "code",
   "execution_count": 3,
   "metadata": {},
   "outputs": [
    {
     "name": "stdout",
     "output_type": "stream",
     "text": [
      "Checking access for: C:\\Users\\user\\Desktop\\PP2\\Lab_3\n",
      "Exists: True\n",
      "Readable: True\n",
      "Writable: True\n",
      "Executable: True\n"
     ]
    }
   ],
   "source": [
    "# Task 2\n",
    "\n",
    "import os\n",
    "\n",
    "def check_access(path):\n",
    "    print(f\"Checking access for: {path}\")\n",
    "    print(\"Exists:\", os.path.exists(path))\n",
    "    print(\"Readable:\", os.access(path, os.R_OK))\n",
    "    print(\"Writable:\", os.access(path, os.W_OK))\n",
    "    print(\"Executable:\", os.access(path, os.X_OK))\n",
    "\n",
    "path = input(\"Enter the path to check: \")\n",
    "check_access(path)\n"
   ]
  },
  {
   "cell_type": "code",
   "execution_count": 4,
   "metadata": {},
   "outputs": [
    {
     "name": "stdout",
     "output_type": "stream",
     "text": [
      "The path 'C:\\Users\\user\\Desktop\\PP2\\Lab_4' exists.\n",
      "Directory portion: C:\\Users\\user\\Desktop\\PP2\n",
      "Filename portion: Lab_4\n"
     ]
    }
   ],
   "source": [
    "# Task 3\n",
    "\n",
    "import os\n",
    "\n",
    "def check_path_details(path):\n",
    "    if os.path.exists(path):\n",
    "        print(f\"The path '{path}' exists.\")\n",
    "        print(\"Directory portion:\", os.path.dirname(path))\n",
    "        print(\"Filename portion:\", os.path.basename(path))\n",
    "    else:\n",
    "        print(f\"The path '{path}' does not exist.\")\n",
    "\n",
    "path = input(\"Enter the path to check: \")\n",
    "check_path_details(path)\n"
   ]
  },
  {
   "cell_type": "code",
   "execution_count": 7,
   "metadata": {},
   "outputs": [
    {
     "name": "stdout",
     "output_type": "stream",
     "text": [
      "Number of lines: 261\n"
     ]
    }
   ],
   "source": [
    "# Task 4\n",
    "\n",
    "def count_lines(file_path):\n",
    "    try:\n",
    "        with open(file_path, 'r', encoding='utf-8') as file:\n",
    "            return sum(1 for line in file)\n",
    "    except FileNotFoundError:\n",
    "        return \"File not found.\"\n",
    "\n",
    "file_path = input(\"Enter the file path: \")\n",
    "print(\"Number of lines:\", count_lines(file_path))\n"
   ]
  },
  {
   "cell_type": "code",
   "execution_count": 9,
   "metadata": {},
   "outputs": [
    {
     "name": "stdout",
     "output_type": "stream",
     "text": [
      "List written to file successfully.\n"
     ]
    }
   ],
   "source": [
    "# Task 5\n",
    "\n",
    "def write_list_to_file(file_path, data_list):\n",
    "    try:\n",
    "        with open(file_path, 'w', encoding='utf-8') as file:\n",
    "            for item in data_list:\n",
    "                file.write(f\"{item}\\n\")\n",
    "        print(\"List written to file successfully.\")\n",
    "    except Exception as e:\n",
    "        print(\"Error writing to file:\", e)\n",
    "\n",
    "file_path = input(\"Enter the file path to save the list: \")\n",
    "data = [\"apple\", \"banana\", \"cherry\", \"date\"]\n",
    "write_list_to_file(file_path, data)"
   ]
  },
  {
   "cell_type": "code",
   "execution_count": null,
   "metadata": {},
   "outputs": [
    {
     "name": "stdout",
     "output_type": "stream",
     "text": [
      "26 text files generated successfully.\n"
     ]
    }
   ],
   "source": [
    "# Task 6\n",
    "\n",
    "import string\n",
    "\n",
    "def generate_text_files():\n",
    "    for letter in string.ascii_uppercase:\n",
    "        file_name = f\"{letter}.txt\"\n",
    "        with open(file_name, 'w', encoding='utf-8') as file:\n",
    "            file.write(f\"This is {file_name}\\n\")\n",
    "    print(\"26 text files generated successfully.\")\n",
    "\n",
    "generate_text_files()\n"
   ]
  },
  {
   "cell_type": "code",
   "execution_count": 12,
   "metadata": {},
   "outputs": [
    {
     "name": "stdout",
     "output_type": "stream",
     "text": [
      "File copied successfully.\n"
     ]
    }
   ],
   "source": [
    "# Task 7\n",
    "\n",
    "def copy_file(source_path, destination_path):\n",
    "    try:\n",
    "        with open(source_path, 'r', encoding='utf-8') as src:\n",
    "            content = src.read()\n",
    "        with open(destination_path, 'w', encoding='utf-8') as dest:\n",
    "            dest.write(content)\n",
    "        print(\"File copied successfully.\")\n",
    "    except FileNotFoundError:\n",
    "        print(\"Source file not found.\")\n",
    "    except Exception as e:\n",
    "        print(\"Error copying file:\", e)\n",
    "\n",
    "source = input(\"Enter source file path: \")\n",
    "destination = input(\"Enter destination file path: \")\n",
    "copy_file(source, destination)\n"
   ]
  },
  {
   "cell_type": "code",
   "execution_count": 13,
   "metadata": {},
   "outputs": [
    {
     "name": "stdout",
     "output_type": "stream",
     "text": [
      "File copied successfully.\n",
      "File deleted successfully.\n"
     ]
    }
   ],
   "source": [
    "# Task 8\n",
    "\n",
    "import os\n",
    "\n",
    "def copy_file(source_path, destination_path):\n",
    "    try:\n",
    "        with open(source_path, 'r', encoding='utf-8') as src:\n",
    "            content = src.read()\n",
    "        with open(destination_path, 'w', encoding='utf-8') as dest:\n",
    "            dest.write(content)\n",
    "        print(\"File copied successfully.\")\n",
    "    except FileNotFoundError:\n",
    "        print(\"Source file not found.\")\n",
    "    except Exception as e:\n",
    "        print(\"Error copying file:\", e)\n",
    "\n",
    "def delete_file(file_path):\n",
    "    if os.path.exists(file_path):\n",
    "        if os.access(file_path, os.W_OK):\n",
    "            try:\n",
    "                os.remove(file_path)\n",
    "                print(\"File deleted successfully.\")\n",
    "            except Exception as e:\n",
    "                print(\"Error deleting file:\", e)\n",
    "        else:\n",
    "            print(\"Permission denied: Unable to delete the file.\")\n",
    "    else:\n",
    "        print(\"File does not exist.\")\n",
    "\n",
    "source = input(\"Enter source file path: \")\n",
    "destination = input(\"Enter destination file path: \")\n",
    "copy_file(source, destination)\n",
    "\n",
    "delete_path = input(\"Enter file path to delete: \")\n",
    "delete_file(delete_path)\n"
   ]
  }
 ],
 "metadata": {
  "kernelspec": {
   "display_name": "Python 3",
   "language": "python",
   "name": "python3"
  },
  "language_info": {
   "codemirror_mode": {
    "name": "ipython",
    "version": 3
   },
   "file_extension": ".py",
   "mimetype": "text/x-python",
   "name": "python",
   "nbconvert_exporter": "python",
   "pygments_lexer": "ipython3",
   "version": "3.13.1"
  }
 },
 "nbformat": 4,
 "nbformat_minor": 2
}
